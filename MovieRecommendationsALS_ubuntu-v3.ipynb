{
 "cells": [
  {
   "cell_type": "markdown",
   "metadata": {},
   "source": [
    "#### Εισαγωγή Βιβλιοθηκών"
   ]
  },
  {
   "cell_type": "code",
   "execution_count": 1,
   "metadata": {
    "collapsed": true
   },
   "outputs": [],
   "source": [
    "import findspark\n",
    "findspark.init('/home/gioxon/spark-2.2.2-bin-hadoop2.7')"
   ]
  },
  {
   "cell_type": "code",
   "execution_count": 2,
   "metadata": {
    "collapsed": true
   },
   "outputs": [],
   "source": [
    "# Spark Session\n",
    "from pyspark.sql import SparkSession\n",
    "# Machine Learning Library - Alternating Least Squares\n",
    "from pyspark.ml.recommendation import ALS\n",
    "# Συνάρτηση για την εισαγωγή δεδομένων απο csv\n",
    "from pyspark.sql import Row\n",
    "# Εκτίμηση ακρίβειας\n",
    "from pyspark.ml.evaluation import RegressionEvaluator\n",
    "# Διαχειριση πινάκων\n",
    "import pandas as pd"
   ]
  },
  {
   "cell_type": "markdown",
   "metadata": {},
   "source": [
    "#### Δημιουργία Spark Session"
   ]
  },
  {
   "cell_type": "code",
   "execution_count": 3,
   "metadata": {
    "collapsed": true
   },
   "outputs": [],
   "source": [
    "spark = SparkSession.builder.appName(\"MovieRecs\").getOrCreate()"
   ]
  },
  {
   "cell_type": "markdown",
   "metadata": {},
   "source": [
    "#### Διάβασμα Δεδομένων"
   ]
  },
  {
   "cell_type": "code",
   "execution_count": 4,
   "metadata": {
    "collapsed": true
   },
   "outputs": [],
   "source": [
    "movies = spark.read.csv('movies.csv',inferSchema=True, sep = \";\", header = True)"
   ]
  },
  {
   "cell_type": "code",
   "execution_count": 5,
   "metadata": {
    "collapsed": true
   },
   "outputs": [],
   "source": [
    "ratings = spark.read.csv('ratings.csv',inferSchema=True, sep = \",\", header = True)"
   ]
  },
  {
   "cell_type": "code",
   "execution_count": 6,
   "metadata": {},
   "outputs": [
    {
     "name": "stdout",
     "output_type": "stream",
     "text": [
      "+-------+--------+------+\n",
      "|user_id|movie_id|rating|\n",
      "+-------+--------+------+\n",
      "|      0|     527|   5.0|\n",
      "|      0|     110|   4.0|\n",
      "|      0|    2028|   5.0|\n",
      "|      0|    4011|   4.5|\n",
      "|      0|   68157|   4.0|\n",
      "+-------+--------+------+\n",
      "only showing top 5 rows\n",
      "\n",
      "+-------+------------------+-----------------+------------------+\n",
      "|summary|           user_id|         movie_id|            rating|\n",
      "+-------+------------------+-----------------+------------------+\n",
      "|  count|          10000030|         10000030|          10000030|\n",
      "|   mean| 35869.94549226353|4120.313208160375|3.5124212627362117|\n",
      "| stddev|20585.287060966275|8938.438320174691|1.0604178189562439|\n",
      "|    min|                 0|                1|               0.5|\n",
      "|    max|             71567|            68157|               5.0|\n",
      "+-------+------------------+-----------------+------------------+\n",
      "\n"
     ]
    }
   ],
   "source": [
    "ratings.show(5)\n",
    "ratings.describe().show()"
   ]
  },
  {
   "cell_type": "code",
   "execution_count": 7,
   "metadata": {},
   "outputs": [
    {
     "name": "stdout",
     "output_type": "stream",
     "text": [
      "+--------+--------------------+----+--------------------+\n",
      "|movie_id|               genre|year|               title|\n",
      "+--------+--------------------+----+--------------------+\n",
      "|       1|Adventure|Animati...|1995|         Toy Story  |\n",
      "|       2|Adventure|Childre...|1995|           Jumanji  |\n",
      "|       3|      Comedy|Romance|1995|  Grumpier Old Men  |\n",
      "|       4|Comedy|Drama|Romance|1995| Waiting to Exhale  |\n",
      "|       5|              Comedy|1995|Father of the Bri...|\n",
      "+--------+--------------------+----+--------------------+\n",
      "only showing top 5 rows\n",
      "\n",
      "+-------+-----------------+------------------+------------------+--------+\n",
      "|summary|         movie_id|             genre|              year|   title|\n",
      "+-------+-----------------+------------------+------------------+--------+\n",
      "|  count|            45656|             45656|             45656|   45656|\n",
      "|   mean|96350.77742246364|              null|1991.8737296302786|Infinity|\n",
      "| stddev|57207.69989666748|              null|24.023975471725567|     NaN|\n",
      "|    min|                1|(no genres listed)|              1874|        |\n",
      "|    max|           176279|           Western|              2017|  줄탁동시  |\n",
      "+-------+-----------------+------------------+------------------+--------+\n",
      "\n"
     ]
    }
   ],
   "source": [
    "movies.show(5)\n",
    "movies.describe().show()"
   ]
  },
  {
   "cell_type": "markdown",
   "metadata": {},
   "source": [
    "#### Εύρεση των ταινιών με πάνω απο 2000 αξιολογήσεις"
   ]
  },
  {
   "cell_type": "code",
   "execution_count": 8,
   "metadata": {
    "collapsed": true
   },
   "outputs": [],
   "source": [
    "ratingCounts = ratings.groupBy(\"movie_id\").count().filter(\"count > 2000\")"
   ]
  },
  {
   "cell_type": "markdown",
   "metadata": {},
   "source": [
    "#### Δημιουργία dataframe με όλες τις ταινίες με πάνω απο 2000 αξιολογήσεις"
   ]
  },
  {
   "cell_type": "code",
   "execution_count": 9,
   "metadata": {},
   "outputs": [
    {
     "name": "stdout",
     "output_type": "stream",
     "text": [
      "+-------+------------------+-----------------+------------------+-----------------+\n",
      "|summary|          movie_id|          user_id|            rating|            count|\n",
      "+-------+------------------+-----------------+------------------+-----------------+\n",
      "|  count|           7306383|          7306383|           7306383|          7306383|\n",
      "|   mean|2500.6446783586352|35869.67406143368|3.6014141333680425|9991.732825257039|\n",
      "| stddev| 5449.616275564452|20614.79828152954|1.0305155927872907|7549.053774165623|\n",
      "|    min|                 1|                0|               0.5|             2002|\n",
      "|    max|             59315|            71567|               5.0|            34865|\n",
      "+-------+------------------+-----------------+------------------+-----------------+\n",
      "\n"
     ]
    }
   ],
   "source": [
    "df_popular = ratings.join(ratingCounts, 'movie_id', how = 'inner')\n",
    "df_popular.describe().show()"
   ]
  },
  {
   "cell_type": "markdown",
   "metadata": {},
   "source": [
    "#### Διαχωρισμός δεδομένων σε training - test"
   ]
  },
  {
   "cell_type": "code",
   "execution_count": 10,
   "metadata": {
    "collapsed": true
   },
   "outputs": [],
   "source": [
    "(training, test) = df_popular.randomSplit([0.7, 0.3])"
   ]
  },
  {
   "cell_type": "markdown",
   "metadata": {},
   "source": [
    "#### Βρόγχος για τον υπολογισμό του RMSE με διαφορετικό αριθμό επαναλήψεων"
   ]
  },
  {
   "cell_type": "code",
   "execution_count": 11,
   "metadata": {
    "collapsed": true
   },
   "outputs": [],
   "source": [
    "iter_rmse_dict = dict()\n",
    "def als_model(iter_number):\n",
    "    for i in range(1, iter_number + 1):\n",
    "        als = ALS(maxIter=i, userCol=\"user_id\", itemCol=\"movie_id\", ratingCol=\"rating\"\n",
    "                  ,coldStartStrategy=\"drop\")\n",
    "        model = als.fit(training)\n",
    "        predictions = model.transform(test)\n",
    "        evaluator = RegressionEvaluator(metricName=\"rmse\", labelCol=\"rating\",\n",
    "                                predictionCol=\"prediction\")\n",
    "        rmse = evaluator.evaluate(predictions)\n",
    "        iter_rmse_dict[i] = (rmse)\n",
    "        print(\"Iterations= \" + str(i) + \", RMSE= \" + str(rmse))"
   ]
  },
  {
   "cell_type": "markdown",
   "metadata": {},
   "source": [
    "#### Εφαρμογή βρόγχου για 20 επαναλήψεις"
   ]
  },
  {
   "cell_type": "code",
   "execution_count": 12,
   "metadata": {},
   "outputs": [
    {
     "name": "stdout",
     "output_type": "stream",
     "text": [
      "Iterations= 1, RMSE= 3.2616822361842117\n",
      "Iterations= 2, RMSE= 0.9227840887717059\n",
      "Iterations= 3, RMSE= 0.8686096187451091\n",
      "Iterations= 4, RMSE= 0.8497370480454397\n",
      "Iterations= 5, RMSE= 0.8381558076000963\n",
      "Iterations= 6, RMSE= 0.8308740404289506\n",
      "Iterations= 7, RMSE= 0.826010785574595\n",
      "Iterations= 8, RMSE= 0.8225250117224238\n",
      "Iterations= 9, RMSE= 0.8199239721496571\n",
      "Iterations= 10, RMSE= 0.8179447555929767\n",
      "Iterations= 11, RMSE= 0.8164153225148799\n",
      "Iterations= 12, RMSE= 0.8152129953889956\n",
      "Iterations= 13, RMSE= 0.8142512234182436\n",
      "Iterations= 14, RMSE= 0.8134697808307957\n",
      "Iterations= 15, RMSE= 0.8128264122863814\n",
      "Iterations= 16, RMSE= 0.8122908260350994\n",
      "Iterations= 17, RMSE= 0.8118407706913289\n",
      "Iterations= 18, RMSE= 0.8114595399450826\n",
      "Iterations= 19, RMSE= 0.8111343506902298\n",
      "Iterations= 20, RMSE= 0.8108552663397768\n"
     ]
    }
   ],
   "source": [
    "als_model(20)"
   ]
  },
  {
   "cell_type": "markdown",
   "metadata": {},
   "source": [
    "#### Aποθήκευση και γράφημα"
   ]
  },
  {
   "cell_type": "code",
   "execution_count": 24,
   "metadata": {},
   "outputs": [
    {
     "data": {
      "text/plain": [
       "<matplotlib.axes._subplots.AxesSubplot at 0x7f14c62754a8>"
      ]
     },
     "execution_count": 24,
     "metadata": {},
     "output_type": "execute_result"
    },
    {
     "data": {
      "image/png": "[encoded data removed]",
      "text/plain": [
       "<Figure size 432x288 with 1 Axes>"
      ]
     },
     "metadata": {},
     "output_type": "display_data"
    }
   ],
   "source": [
    "iter_rmse = pd.DataFrame(list(iter_rmse_dict.items()), columns=['Iterations', 'RMSE'])\n",
    "iter_rmse.plot.line(x='Iterations', y= 'RMSE', c = 'DarkBlue')"
   ]
  },
  {
   "cell_type": "markdown",
   "metadata": {
    "collapsed": true
   },
   "source": [
    "#### Εφαρμογή του μοντέλου ALS collaborative filtering model στα δεδομένα\n"
   ]
  },
  {
   "cell_type": "code",
   "execution_count": 14,
   "metadata": {
    "collapsed": true
   },
   "outputs": [],
   "source": [
    "als = ALS(maxIter=20, userCol=\"user_id\", itemCol=\"movie_id\", ratingCol=\"rating\",\n",
    "          coldStartStrategy=\"drop\")\n",
    "model = als.fit(training)"
   ]
  },
  {
   "cell_type": "markdown",
   "metadata": {},
   "source": [
    "#### Πρόβλεψη του μοντέλου"
   ]
  },
  {
   "cell_type": "code",
   "execution_count": 16,
   "metadata": {
    "collapsed": true
   },
   "outputs": [],
   "source": [
    "predictions = model.transform(test)"
   ]
  },
  {
   "cell_type": "markdown",
   "metadata": {},
   "source": [
    "#### Εκτίμηση ακρίβειας με υπολογισμό της Ρίζας της μέσης τετραγωνικής απόκλισης - RMSE"
   ]
  },
  {
   "cell_type": "code",
   "execution_count": 17,
   "metadata": {},
   "outputs": [
    {
     "name": "stdout",
     "output_type": "stream",
     "text": [
      "Root-mean-square error = 0.8108552663397768\n"
     ]
    }
   ],
   "source": [
    "evaluator = RegressionEvaluator(metricName=\"rmse\", labelCol=\"rating\",\n",
    "                                predictionCol=\"prediction\")\n",
    "rmse = evaluator.evaluate(predictions)\n",
    "print(\"Root-mean-square error = \" + str(rmse))"
   ]
  },
  {
   "cell_type": "markdown",
   "metadata": {},
   "source": [
    "#### Υπολογισμός 10 προτεινόμενων ταινιών για κάθε χρήστη"
   ]
  },
  {
   "cell_type": "code",
   "execution_count": 45,
   "metadata": {
    "collapsed": true
   },
   "outputs": [],
   "source": [
    "userRecs = model.recommendForAllUsers(10)"
   ]
  },
  {
   "cell_type": "markdown",
   "metadata": {},
   "source": [
    "#### Εμφάνιση των ταινιών που εισάγαμε (user_id = 0)"
   ]
  },
  {
   "cell_type": "code",
   "execution_count": 26,
   "metadata": {},
   "outputs": [
    {
     "name": "stdout",
     "output_type": "stream",
     "text": [
      "+-------+--------+--------------------+------+\n",
      "|user_id|movie_id|               title|rating|\n",
      "+-------+--------+--------------------+------+\n",
      "|      0|     527|  Schindler's List  |   5.0|\n",
      "|      0|     110|        Braveheart  |   4.0|\n",
      "|      0|    2028|Saving Private Ry...|   5.0|\n",
      "|      0|    4011|            Snatch  |   4.5|\n",
      "|      0|   68157|Inglourious Baste...|   4.0|\n",
      "|      0|     356|      Forrest Gump  |   5.0|\n",
      "+-------+--------+--------------------+------+\n",
      "\n"
     ]
    }
   ],
   "source": [
    "user_id_0 = ratings.filter(ratings['user_id']==0).select(\n",
    "    ['movie_id', 'user_id', 'rating'])\n",
    "user_id_0.join(movies, on = 'movie_id', how = 'inner')[[\n",
    "    'user_id', 'movie_id', 'title', 'rating']].show()"
   ]
  },
  {
   "cell_type": "markdown",
   "metadata": {},
   "source": [
    "#### Μετατροπή Spark dataframe ταινιών σε Pandas Dataframe"
   ]
  },
  {
   "cell_type": "code",
   "execution_count": null,
   "metadata": {
    "collapsed": true
   },
   "outputs": [],
   "source": [
    "df_movies = movies.toPandas()\n",
    "df_movies.drop(['genre', 'year'], inplace=True, axis = 1)"
   ]
  },
  {
   "cell_type": "markdown",
   "metadata": {},
   "source": [
    "#### Εμφάνιση 10 προτεινόμενων ταινιών για τον χρήστη  user_id = 0"
   ]
  },
  {
   "cell_type": "code",
   "execution_count": 46,
   "metadata": {
    "collapsed": true
   },
   "outputs": [],
   "source": [
    "# Αποθήκευση αποτελεσμάτων σε list\n",
    "user_0 = userRecs[userRecs['user_id']==0].select(['recommendations']).collect()"
   ]
  },
  {
   "cell_type": "code",
   "execution_count": 47,
   "metadata": {
    "collapsed": true
   },
   "outputs": [],
   "source": [
    "# Μετατροπή σε Dataframe\n",
    "user_0 = pd.DataFrame(user_0, columns=['movie_id-rating'])\n",
    "user_0 = pd.DataFrame(user_0['movie_id-rating'][0], columns=['movie_id', 'rating'])"
   ]
  },
  {
   "cell_type": "code",
   "execution_count": 48,
   "metadata": {},
   "outputs": [
    {
     "data": {
      "text/html": [
       "<div>\n",
       "<style scoped>\n",
       "    .dataframe tbody tr th:only-of-type {\n",
       "        vertical-align: middle;\n",
       "    }\n",
       "\n",
       "    .dataframe tbody tr th {\n",
       "        vertical-align: top;\n",
       "    }\n",
       "\n",
       "    .dataframe thead th {\n",
       "        text-align: right;\n",
       "    }\n",
       "</style>\n",
       "<table border=\"1\" class=\"dataframe\">\n",
       "  <thead>\n",
       "    <tr style=\"text-align: right;\">\n",
       "      <th></th>\n",
       "      <th>movie_id</th>\n",
       "      <th>title</th>\n",
       "      <th>rating</th>\n",
       "    </tr>\n",
       "  </thead>\n",
       "  <tbody>\n",
       "    <tr>\n",
       "      <th>1</th>\n",
       "      <td>318</td>\n",
       "      <td>Shawshank Redemption</td>\n",
       "      <td>4.907811</td>\n",
       "    </tr>\n",
       "    <tr>\n",
       "      <th>3</th>\n",
       "      <td>527</td>\n",
       "      <td>Schindler's List</td>\n",
       "      <td>4.876192</td>\n",
       "    </tr>\n",
       "    <tr>\n",
       "      <th>5</th>\n",
       "      <td>858</td>\n",
       "      <td>Godfather</td>\n",
       "      <td>4.797772</td>\n",
       "    </tr>\n",
       "    <tr>\n",
       "      <th>9</th>\n",
       "      <td>2324</td>\n",
       "      <td>Life Is Beautiful La Vita è bella</td>\n",
       "      <td>4.664038</td>\n",
       "    </tr>\n",
       "    <tr>\n",
       "      <th>6</th>\n",
       "      <td>1193</td>\n",
       "      <td>One Flew Over the Cuckoo's Nest</td>\n",
       "      <td>4.656334</td>\n",
       "    </tr>\n",
       "    <tr>\n",
       "      <th>0</th>\n",
       "      <td>50</td>\n",
       "      <td>Usual Suspects</td>\n",
       "      <td>4.620875</td>\n",
       "    </tr>\n",
       "    <tr>\n",
       "      <th>2</th>\n",
       "      <td>356</td>\n",
       "      <td>Forrest Gump</td>\n",
       "      <td>4.606669</td>\n",
       "    </tr>\n",
       "    <tr>\n",
       "      <th>7</th>\n",
       "      <td>1221</td>\n",
       "      <td>Godfather: Part II</td>\n",
       "      <td>4.598062</td>\n",
       "    </tr>\n",
       "    <tr>\n",
       "      <th>8</th>\n",
       "      <td>2028</td>\n",
       "      <td>Saving Private Ryan</td>\n",
       "      <td>4.592341</td>\n",
       "    </tr>\n",
       "    <tr>\n",
       "      <th>4</th>\n",
       "      <td>593</td>\n",
       "      <td>Silence of the Lambs</td>\n",
       "      <td>4.590737</td>\n",
       "    </tr>\n",
       "  </tbody>\n",
       "</table>\n",
       "</div>"
      ],
      "text/plain": [
       "   movie_id                                 title    rating\n",
       "1       318                  Shawshank Redemption  4.907811\n",
       "3       527                    Schindler's List    4.876192\n",
       "5       858                             Godfather  4.797772\n",
       "9      2324  Life Is Beautiful La Vita è bella     4.664038\n",
       "6      1193     One Flew Over the Cuckoo's Nest    4.656334\n",
       "0        50                        Usual Suspects  4.620875\n",
       "2       356                        Forrest Gump    4.606669\n",
       "7      1221                    Godfather: Part II  4.598062\n",
       "8      2028                 Saving Private Ryan    4.592341\n",
       "4       593                  Silence of the Lambs  4.590737"
      ]
     },
     "execution_count": 48,
     "metadata": {},
     "output_type": "execute_result"
    }
   ],
   "source": [
    "# Εμφάνιση αποτελεσμάτων με τα ονόματα της ταινίας\n",
    "results = pd.merge(df_movies, user_0, on = 'movie_id', how = 'inner')\n",
    "results.sort_values('rating', ascending=False)"
   ]
  },
  {
   "cell_type": "markdown",
   "metadata": {},
   "source": [
    "#### Εμφάνιση των ταινιών που εισάγαμε (user_id = 1)"
   ]
  },
  {
   "cell_type": "code",
   "execution_count": 49,
   "metadata": {},
   "outputs": [
    {
     "name": "stdout",
     "output_type": "stream",
     "text": [
      "+-------+--------+--------------------+------+\n",
      "|user_id|movie_id|               title|rating|\n",
      "+-------+--------+--------------------+------+\n",
      "|      1|    2840|          Stigmata  |   4.0|\n",
      "|      1|      47|Seven a.k.a. Se7e...|   5.0|\n",
      "|      1|    5219|     Resident Evil  |   4.0|\n",
      "|      1|     593|Silence of the Lambs|   5.0|\n",
      "|      1|     296|      Pulp Fiction  |   4.5|\n",
      "|      1|    1645|The Devil's Advoc...|   4.0|\n",
      "+-------+--------+--------------------+------+\n",
      "\n"
     ]
    }
   ],
   "source": [
    "user_id_1 = ratings.filter(ratings['user_id']==1).select(\n",
    "    ['movie_id', 'user_id', 'rating'])\n",
    "user_id_1.join(movies, on = 'movie_id', how = 'inner')[[\n",
    "    'user_id', 'movie_id', 'title', 'rating']].show()"
   ]
  },
  {
   "cell_type": "markdown",
   "metadata": {},
   "source": [
    "#### Εμφάνιση 10 προτεινόμενων ταινιών για τον χρήστη  user_id = 1"
   ]
  },
  {
   "cell_type": "code",
   "execution_count": 50,
   "metadata": {
    "collapsed": true
   },
   "outputs": [],
   "source": [
    "# Αποθήκευση αποτελεσμάτων σε list\n",
    "user_1 = userRecs[userRecs['user_id']==1].select(['recommendations']).collect()"
   ]
  },
  {
   "cell_type": "code",
   "execution_count": 51,
   "metadata": {
    "collapsed": true
   },
   "outputs": [],
   "source": [
    "# Μετατροπή σε Dataframe\n",
    "user_1 = pd.DataFrame(user_1, columns=['movie_id-rating'])\n",
    "user_1 = pd.DataFrame(user_1['movie_id-rating'][0], columns=['movie_id', 'rating'])"
   ]
  },
  {
   "cell_type": "code",
   "execution_count": 52,
   "metadata": {},
   "outputs": [
    {
     "data": {
      "text/html": [
       "<div>\n",
       "<style scoped>\n",
       "    .dataframe tbody tr th:only-of-type {\n",
       "        vertical-align: middle;\n",
       "    }\n",
       "\n",
       "    .dataframe tbody tr th {\n",
       "        vertical-align: top;\n",
       "    }\n",
       "\n",
       "    .dataframe thead th {\n",
       "        text-align: right;\n",
       "    }\n",
       "</style>\n",
       "<table border=\"1\" class=\"dataframe\">\n",
       "  <thead>\n",
       "    <tr style=\"text-align: right;\">\n",
       "      <th></th>\n",
       "      <th>movie_id</th>\n",
       "      <th>title</th>\n",
       "      <th>rating</th>\n",
       "    </tr>\n",
       "  </thead>\n",
       "  <tbody>\n",
       "    <tr>\n",
       "      <th>5</th>\n",
       "      <td>2571</td>\n",
       "      <td>Matrix</td>\n",
       "      <td>4.827216</td>\n",
       "    </tr>\n",
       "    <tr>\n",
       "      <th>3</th>\n",
       "      <td>318</td>\n",
       "      <td>Shawshank Redemption</td>\n",
       "      <td>4.764733</td>\n",
       "    </tr>\n",
       "    <tr>\n",
       "      <th>9</th>\n",
       "      <td>58559</td>\n",
       "      <td>Dark Knight</td>\n",
       "      <td>4.739077</td>\n",
       "    </tr>\n",
       "    <tr>\n",
       "      <th>6</th>\n",
       "      <td>2959</td>\n",
       "      <td>Fight Club</td>\n",
       "      <td>4.735715</td>\n",
       "    </tr>\n",
       "    <tr>\n",
       "      <th>1</th>\n",
       "      <td>50</td>\n",
       "      <td>Usual Suspects</td>\n",
       "      <td>4.712737</td>\n",
       "    </tr>\n",
       "    <tr>\n",
       "      <th>4</th>\n",
       "      <td>593</td>\n",
       "      <td>Silence of the Lambs</td>\n",
       "      <td>4.700109</td>\n",
       "    </tr>\n",
       "    <tr>\n",
       "      <th>0</th>\n",
       "      <td>47</td>\n",
       "      <td>Seven a.k.a. Se7en</td>\n",
       "      <td>4.687925</td>\n",
       "    </tr>\n",
       "    <tr>\n",
       "      <th>2</th>\n",
       "      <td>296</td>\n",
       "      <td>Pulp Fiction</td>\n",
       "      <td>4.666629</td>\n",
       "    </tr>\n",
       "    <tr>\n",
       "      <th>8</th>\n",
       "      <td>7153</td>\n",
       "      <td>Lord of the Rings: The Return of the King</td>\n",
       "      <td>4.661360</td>\n",
       "    </tr>\n",
       "    <tr>\n",
       "      <th>7</th>\n",
       "      <td>4993</td>\n",
       "      <td>Lord of the Rings: The Fellowship of the Ring</td>\n",
       "      <td>4.652792</td>\n",
       "    </tr>\n",
       "  </tbody>\n",
       "</table>\n",
       "</div>"
      ],
      "text/plain": [
       "   movie_id                                          title    rating\n",
       "5      2571                                         Matrix  4.827216\n",
       "3       318                           Shawshank Redemption  4.764733\n",
       "9     58559                                    Dark Knight  4.739077\n",
       "6      2959                                   Fight Club    4.735715\n",
       "1        50                                 Usual Suspects  4.712737\n",
       "4       593                           Silence of the Lambs  4.700109\n",
       "0        47                          Seven a.k.a. Se7en     4.687925\n",
       "2       296                                 Pulp Fiction    4.666629\n",
       "8      7153      Lord of the Rings: The Return of the King  4.661360\n",
       "7      4993  Lord of the Rings: The Fellowship of the Ring  4.652792"
      ]
     },
     "execution_count": 52,
     "metadata": {},
     "output_type": "execute_result"
    }
   ],
   "source": [
    "# Εμφάνιση αποτελεσμάτων με τα ονόματα της ταινίας\n",
    "results = pd.merge(df_movies, user_1, on = 'movie_id', how = 'inner')\n",
    "results.sort_values('rating', ascending=False)"
   ]
  },
  {
   "cell_type": "markdown",
   "metadata": {},
   "source": [
    "#### Εμφάνιση των ταινιών που εισάγαμε (user_id = 2)"
   ]
  },
  {
   "cell_type": "code",
   "execution_count": 53,
   "metadata": {},
   "outputs": [
    {
     "name": "stdout",
     "output_type": "stream",
     "text": [
      "+-------+--------+--------------------+------+\n",
      "|user_id|movie_id|               title|rating|\n",
      "+-------+--------+--------------------+------+\n",
      "|      2|    6934|  Matrix Revolutions|   5.0|\n",
      "|      2|    6365|     Matrix Reloaded|   4.5|\n",
      "|      2|    2571|              Matrix|   5.0|\n",
      "|      2|    2628|Star Wars: Episod...|   5.0|\n",
      "|      2|    5378|Star Wars: Episod...|   5.0|\n",
      "|      2|   33493|Star Wars: Episod...|   4.5|\n",
      "+-------+--------+--------------------+------+\n",
      "\n"
     ]
    }
   ],
   "source": [
    "user_id_2 = ratings.filter(ratings['user_id']==2).select(\n",
    "    ['movie_id', 'user_id', 'rating'])\n",
    "user_id_2.join(movies, on = 'movie_id', how = 'inner')[[\n",
    "    'user_id', 'movie_id', 'title', 'rating']].show()"
   ]
  },
  {
   "cell_type": "markdown",
   "metadata": {},
   "source": [
    "#### Εμφάνιση 10 προτεινόμενων ταινιών για τον χρήστη  user_id = 2"
   ]
  },
  {
   "cell_type": "code",
   "execution_count": 54,
   "metadata": {
    "collapsed": true
   },
   "outputs": [],
   "source": [
    "# Αποθήκευση αποτελεσμάτων σε list\n",
    "user_2 = userRecs[userRecs['user_id']==2].select(['recommendations']).collect()"
   ]
  },
  {
   "cell_type": "code",
   "execution_count": 55,
   "metadata": {
    "collapsed": true
   },
   "outputs": [],
   "source": [
    "# Μετατροπή σε Dataframe\n",
    "user_2 = pd.DataFrame(user_2, columns=['movie_id-rating'])\n",
    "user_2 = pd.DataFrame(user_2['movie_id-rating'][0], columns=['movie_id', 'rating'])"
   ]
  },
  {
   "cell_type": "code",
   "execution_count": 56,
   "metadata": {},
   "outputs": [
    {
     "data": {
      "text/html": [
       "<div>\n",
       "<style scoped>\n",
       "    .dataframe tbody tr th:only-of-type {\n",
       "        vertical-align: middle;\n",
       "    }\n",
       "\n",
       "    .dataframe tbody tr th {\n",
       "        vertical-align: top;\n",
       "    }\n",
       "\n",
       "    .dataframe thead th {\n",
       "        text-align: right;\n",
       "    }\n",
       "</style>\n",
       "<table border=\"1\" class=\"dataframe\">\n",
       "  <thead>\n",
       "    <tr style=\"text-align: right;\">\n",
       "      <th></th>\n",
       "      <th>movie_id</th>\n",
       "      <th>title</th>\n",
       "      <th>rating</th>\n",
       "    </tr>\n",
       "  </thead>\n",
       "  <tbody>\n",
       "    <tr>\n",
       "      <th>6</th>\n",
       "      <td>7153</td>\n",
       "      <td>Lord of the Rings: The Return of the King</td>\n",
       "      <td>5.191814</td>\n",
       "    </tr>\n",
       "    <tr>\n",
       "      <th>5</th>\n",
       "      <td>5952</td>\n",
       "      <td>Lord of the Rings: The Two Towers</td>\n",
       "      <td>5.148344</td>\n",
       "    </tr>\n",
       "    <tr>\n",
       "      <th>4</th>\n",
       "      <td>4993</td>\n",
       "      <td>Lord of the Rings: The Fellowship of the Ring</td>\n",
       "      <td>5.122734</td>\n",
       "    </tr>\n",
       "    <tr>\n",
       "      <th>2</th>\n",
       "      <td>2571</td>\n",
       "      <td>Matrix</td>\n",
       "      <td>5.083700</td>\n",
       "    </tr>\n",
       "    <tr>\n",
       "      <th>3</th>\n",
       "      <td>3578</td>\n",
       "      <td>Gladiator</td>\n",
       "      <td>5.003255</td>\n",
       "    </tr>\n",
       "    <tr>\n",
       "      <th>7</th>\n",
       "      <td>33493</td>\n",
       "      <td>Star Wars: Episode III - Revenge of the Sith</td>\n",
       "      <td>4.921426</td>\n",
       "    </tr>\n",
       "    <tr>\n",
       "      <th>9</th>\n",
       "      <td>58559</td>\n",
       "      <td>Dark Knight</td>\n",
       "      <td>4.904119</td>\n",
       "    </tr>\n",
       "    <tr>\n",
       "      <th>8</th>\n",
       "      <td>51662</td>\n",
       "      <td>300</td>\n",
       "      <td>4.874289</td>\n",
       "    </tr>\n",
       "    <tr>\n",
       "      <th>0</th>\n",
       "      <td>110</td>\n",
       "      <td>Braveheart</td>\n",
       "      <td>4.864000</td>\n",
       "    </tr>\n",
       "    <tr>\n",
       "      <th>1</th>\n",
       "      <td>1210</td>\n",
       "      <td>Star Wars: Episode VI - Return of the Jedi</td>\n",
       "      <td>4.863513</td>\n",
       "    </tr>\n",
       "  </tbody>\n",
       "</table>\n",
       "</div>"
      ],
      "text/plain": [
       "   movie_id                                           title    rating\n",
       "6      7153       Lord of the Rings: The Return of the King  5.191814\n",
       "5      5952               Lord of the Rings: The Two Towers  5.148344\n",
       "4      4993   Lord of the Rings: The Fellowship of the Ring  5.122734\n",
       "2      2571                                          Matrix  5.083700\n",
       "3      3578                                     Gladiator    5.003255\n",
       "7     33493  Star Wars: Episode III - Revenge of the Sith    4.921426\n",
       "9     58559                                     Dark Knight  4.904119\n",
       "8     51662                                             300  4.874289\n",
       "0       110                                    Braveheart    4.864000\n",
       "1      1210    Star Wars: Episode VI - Return of the Jedi    4.863513"
      ]
     },
     "execution_count": 56,
     "metadata": {},
     "output_type": "execute_result"
    }
   ],
   "source": [
    "# Εμφάνιση αποτελεσμάτων με τα ονόματα της ταινίας\n",
    "results = pd.merge(df_movies, user_2, on = 'movie_id', how = 'inner')\n",
    "results.sort_values('rating', ascending=False)"
   ]
  },
  {
   "cell_type": "markdown",
   "metadata": {},
   "source": [
    "#### Τερματισμός Session"
   ]
  },
  {
   "cell_type": "code",
   "execution_count": 23,
   "metadata": {
    "collapsed": true
   },
   "outputs": [],
   "source": [
    "spark.stop()"
   ]
  }
 ],
 "metadata": {
  "kernelspec": {
   "display_name": "Python 3",
   "language": "python",
   "name": "python3"
  },
  "language_info": {
   "codemirror_mode": {
    "name": "ipython",
    "version": 3
   },
   "file_extension": ".py",
   "mimetype": "text/x-python",
   "name": "python",
   "nbconvert_exporter": "python",
   "pygments_lexer": "ipython3",
   "version": "3.6.2"
  }
 },
 "nbformat": 4,
 "nbformat_minor": 2
}
